{
 "cells": [
  {
   "cell_type": "code",
   "execution_count": 249,
   "id": "e08229f5",
   "metadata": {},
   "outputs": [],
   "source": [
    "### 1. Importing libraries and data\n",
    "\n",
    "import pandas as pd\n",
    "import numpy as np\n",
    "import os\n",
    "import matplotlib.pyplot as plt\n",
    "import matplotlib\n",
    "import seaborn as sns\n",
    "import sklearn\n",
    "from sklearn.model_selection import train_test_split\n",
    "from sklearn.linear_model import LinearRegression\n",
    "from sklearn.metrics import mean_squared_error, r2_score\n"
   ]
  },
  {
   "cell_type": "code",
   "execution_count": 250,
   "id": "79f5e427",
   "metadata": {},
   "outputs": [],
   "source": [
    "%matplotlib inline"
   ]
  },
  {
   "cell_type": "code",
   "execution_count": 251,
   "id": "f0b2eb4f",
   "metadata": {},
   "outputs": [],
   "source": [
    "### 2. Import 'Chocolate bar rating 2022' dataset \n",
    "\n",
    "df = pd.read_csv(r'/Users/melissatoure/Documents/CF Data analytics program/Offical tasks reviewed /Data Immersion/Assigment off/Achievement 6 /df_choc_bar_rating_clean.csv', index_col = False)"
   ]
  },
  {
   "cell_type": "code",
   "execution_count": 252,
   "id": "ae4ef60b",
   "metadata": {},
   "outputs": [],
   "source": [
    "path = '/Users/melissatoure/Documents/CF Data analytics program/Offical tasks reviewed /Data Immersion/Assigment off/Achievement 6 /6.4'"
   ]
  },
  {
   "cell_type": "code",
   "execution_count": 253,
   "id": "12d2a6db",
   "metadata": {},
   "outputs": [
    {
     "data": {
      "text/plain": [
       "Index(['Unnamed: 0', 'REF', 'Company (Manufacturer)', 'Company Location',\n",
       "       'Review Year', 'Country of Bean Origin',\n",
       "       'Specific Bean Origin or Bar Name', 'Cocoa Percent', 'Ingredients',\n",
       "       'Most Memorable Characteristics', 'Rating'],\n",
       "      dtype='object')"
      ]
     },
     "execution_count": 253,
     "metadata": {},
     "output_type": "execute_result"
    }
   ],
   "source": [
    "### 3. Data cleaning \n",
    "\n",
    "df.columns # No issues "
   ]
  },
  {
   "cell_type": "code",
   "execution_count": 254,
   "id": "80887819",
   "metadata": {},
   "outputs": [
    {
     "data": {
      "text/html": [
       "<div>\n",
       "<style scoped>\n",
       "    .dataframe tbody tr th:only-of-type {\n",
       "        vertical-align: middle;\n",
       "    }\n",
       "\n",
       "    .dataframe tbody tr th {\n",
       "        vertical-align: top;\n",
       "    }\n",
       "\n",
       "    .dataframe thead th {\n",
       "        text-align: right;\n",
       "    }\n",
       "</style>\n",
       "<table border=\"1\" class=\"dataframe\">\n",
       "  <thead>\n",
       "    <tr style=\"text-align: right;\">\n",
       "      <th></th>\n",
       "      <th>Unnamed: 0</th>\n",
       "      <th>REF</th>\n",
       "      <th>Company (Manufacturer)</th>\n",
       "      <th>Company Location</th>\n",
       "      <th>Review Year</th>\n",
       "      <th>Country of Bean Origin</th>\n",
       "      <th>Specific Bean Origin or Bar Name</th>\n",
       "      <th>Cocoa Percent</th>\n",
       "      <th>Ingredients</th>\n",
       "      <th>Most Memorable Characteristics</th>\n",
       "      <th>Rating</th>\n",
       "    </tr>\n",
       "  </thead>\n",
       "  <tbody>\n",
       "    <tr>\n",
       "      <th>0</th>\n",
       "      <td>0</td>\n",
       "      <td>2454</td>\n",
       "      <td>5150</td>\n",
       "      <td>U.S.A.</td>\n",
       "      <td>2019</td>\n",
       "      <td>Tanzania</td>\n",
       "      <td>Kokoa Kamili, batch 1</td>\n",
       "      <td>76%</td>\n",
       "      <td>3- B,S,C</td>\n",
       "      <td>rich cocoa, fatty, bready</td>\n",
       "      <td>3.25</td>\n",
       "    </tr>\n",
       "    <tr>\n",
       "      <th>1</th>\n",
       "      <td>1</td>\n",
       "      <td>2454</td>\n",
       "      <td>5150</td>\n",
       "      <td>U.S.A.</td>\n",
       "      <td>2019</td>\n",
       "      <td>Madagascar</td>\n",
       "      <td>Bejofo Estate, batch 1</td>\n",
       "      <td>76%</td>\n",
       "      <td>3- B,S,C</td>\n",
       "      <td>cocoa, blackberry, full body</td>\n",
       "      <td>3.75</td>\n",
       "    </tr>\n",
       "    <tr>\n",
       "      <th>2</th>\n",
       "      <td>2</td>\n",
       "      <td>2458</td>\n",
       "      <td>5150</td>\n",
       "      <td>U.S.A.</td>\n",
       "      <td>2019</td>\n",
       "      <td>Dominican Republic</td>\n",
       "      <td>Zorzal, batch 1</td>\n",
       "      <td>76%</td>\n",
       "      <td>3- B,S,C</td>\n",
       "      <td>cocoa, vegetal, savory</td>\n",
       "      <td>3.50</td>\n",
       "    </tr>\n",
       "    <tr>\n",
       "      <th>3</th>\n",
       "      <td>3</td>\n",
       "      <td>2542</td>\n",
       "      <td>5150</td>\n",
       "      <td>U.S.A.</td>\n",
       "      <td>2021</td>\n",
       "      <td>Fiji</td>\n",
       "      <td>Matasawalevu, batch 1</td>\n",
       "      <td>68%</td>\n",
       "      <td>3- B,S,C</td>\n",
       "      <td>chewy, off, rubbery</td>\n",
       "      <td>3.00</td>\n",
       "    </tr>\n",
       "    <tr>\n",
       "      <th>4</th>\n",
       "      <td>4</td>\n",
       "      <td>2542</td>\n",
       "      <td>5150</td>\n",
       "      <td>U.S.A.</td>\n",
       "      <td>2021</td>\n",
       "      <td>India</td>\n",
       "      <td>Anamalai, batch 1</td>\n",
       "      <td>68%</td>\n",
       "      <td>3- B,S,C</td>\n",
       "      <td>milk brownie, macadamia,chewy</td>\n",
       "      <td>3.50</td>\n",
       "    </tr>\n",
       "  </tbody>\n",
       "</table>\n",
       "</div>"
      ],
      "text/plain": [
       "   Unnamed: 0   REF Company (Manufacturer) Company Location  Review Year  \\\n",
       "0           0  2454                   5150           U.S.A.         2019   \n",
       "1           1  2454                   5150           U.S.A.         2019   \n",
       "2           2  2458                   5150           U.S.A.         2019   \n",
       "3           3  2542                   5150           U.S.A.         2021   \n",
       "4           4  2542                   5150           U.S.A.         2021   \n",
       "\n",
       "  Country of Bean Origin Specific Bean Origin or Bar Name Cocoa Percent  \\\n",
       "0               Tanzania            Kokoa Kamili, batch 1           76%   \n",
       "1             Madagascar           Bejofo Estate, batch 1           76%   \n",
       "2     Dominican Republic                  Zorzal, batch 1           76%   \n",
       "3                   Fiji            Matasawalevu, batch 1           68%   \n",
       "4                  India                Anamalai, batch 1           68%   \n",
       "\n",
       "  Ingredients Most Memorable Characteristics  Rating  \n",
       "0    3- B,S,C      rich cocoa, fatty, bready    3.25  \n",
       "1    3- B,S,C   cocoa, blackberry, full body    3.75  \n",
       "2    3- B,S,C         cocoa, vegetal, savory    3.50  \n",
       "3    3- B,S,C            chewy, off, rubbery    3.00  \n",
       "4    3- B,S,C  milk brownie, macadamia,chewy    3.50  "
      ]
     },
     "execution_count": 254,
     "metadata": {},
     "output_type": "execute_result"
    }
   ],
   "source": [
    "df.head(5) # No issues "
   ]
  },
  {
   "cell_type": "code",
   "execution_count": 255,
   "id": "292ffd59",
   "metadata": {},
   "outputs": [
    {
     "data": {
      "text/plain": [
       "(2588, 11)"
      ]
     },
     "execution_count": 255,
     "metadata": {},
     "output_type": "execute_result"
    }
   ],
   "source": [
    "df.shape # No issues "
   ]
  },
  {
   "cell_type": "code",
   "execution_count": 256,
   "id": "ffdefe10",
   "metadata": {},
   "outputs": [
    {
     "data": {
      "text/plain": [
       "Unnamed: 0                           0\n",
       "REF                                  0\n",
       "Company (Manufacturer)               0\n",
       "Company Location                     0\n",
       "Review Year                          0\n",
       "Country of Bean Origin               0\n",
       "Specific Bean Origin or Bar Name     0\n",
       "Cocoa Percent                        0\n",
       "Ingredients                         87\n",
       "Most Memorable Characteristics       0\n",
       "Rating                               0\n",
       "dtype: int64"
      ]
     },
     "execution_count": 256,
     "metadata": {},
     "output_type": "execute_result"
    }
   ],
   "source": [
    "# Check for missing values\n",
    "\n",
    "df.isnull().sum() # 87 missing values found in the 'Ingredients columns'"
   ]
  },
  {
   "cell_type": "code",
   "execution_count": 257,
   "id": "8ab8ad91",
   "metadata": {},
   "outputs": [],
   "source": [
    "# Imputation of missing values with specific value 'unknown'\n",
    "\n",
    "df['Ingredients'].fillna('Unknown', inplace=True)"
   ]
  },
  {
   "cell_type": "code",
   "execution_count": 258,
   "id": "f7dec3e6",
   "metadata": {},
   "outputs": [
    {
     "data": {
      "text/plain": [
       "Unnamed: 0                          0\n",
       "REF                                 0\n",
       "Company (Manufacturer)              0\n",
       "Company Location                    0\n",
       "Review Year                         0\n",
       "Country of Bean Origin              0\n",
       "Specific Bean Origin or Bar Name    0\n",
       "Cocoa Percent                       0\n",
       "Ingredients                         0\n",
       "Most Memorable Characteristics      0\n",
       "Rating                              0\n",
       "dtype: int64"
      ]
     },
     "execution_count": 258,
     "metadata": {},
     "output_type": "execute_result"
    }
   ],
   "source": [
    "# Checking on the results \n",
    "\n",
    "df.isnull().sum()"
   ]
  },
  {
   "cell_type": "code",
   "execution_count": 259,
   "id": "2df390a4",
   "metadata": {},
   "outputs": [],
   "source": [
    "# Duplicates check \n",
    "\n",
    "duplicate_values = df.duplicated()"
   ]
  },
  {
   "cell_type": "code",
   "execution_count": 260,
   "id": "73e8da13",
   "metadata": {},
   "outputs": [
    {
     "data": {
      "text/plain": [
       "(2588,)"
      ]
     },
     "execution_count": 260,
     "metadata": {},
     "output_type": "execute_result"
    }
   ],
   "source": [
    "duplicate_values.shape"
   ]
  },
  {
   "cell_type": "code",
   "execution_count": 261,
   "id": "56ede192",
   "metadata": {},
   "outputs": [
    {
     "data": {
      "text/html": [
       "<div>\n",
       "<style scoped>\n",
       "    .dataframe tbody tr th:only-of-type {\n",
       "        vertical-align: middle;\n",
       "    }\n",
       "\n",
       "    .dataframe tbody tr th {\n",
       "        vertical-align: top;\n",
       "    }\n",
       "\n",
       "    .dataframe thead th {\n",
       "        text-align: right;\n",
       "    }\n",
       "</style>\n",
       "<table border=\"1\" class=\"dataframe\">\n",
       "  <thead>\n",
       "    <tr style=\"text-align: right;\">\n",
       "      <th></th>\n",
       "      <th>Unnamed: 0</th>\n",
       "      <th>REF</th>\n",
       "      <th>Company (Manufacturer)</th>\n",
       "      <th>Company Location</th>\n",
       "      <th>Review Year</th>\n",
       "      <th>Country of Bean Origin</th>\n",
       "      <th>Specific Bean Origin or Bar Name</th>\n",
       "      <th>Cocoa Percent</th>\n",
       "      <th>Ingredients</th>\n",
       "      <th>Most Memorable Characteristics</th>\n",
       "      <th>Rating</th>\n",
       "    </tr>\n",
       "  </thead>\n",
       "  <tbody>\n",
       "  </tbody>\n",
       "</table>\n",
       "</div>"
      ],
      "text/plain": [
       "Empty DataFrame\n",
       "Columns: [Unnamed: 0, REF, Company (Manufacturer), Company Location, Review Year, Country of Bean Origin, Specific Bean Origin or Bar Name, Cocoa Percent, Ingredients, Most Memorable Characteristics, Rating]\n",
       "Index: []"
      ]
     },
     "execution_count": 261,
     "metadata": {},
     "output_type": "execute_result"
    }
   ],
   "source": [
    "df[df.duplicated()] # No duplicates found"
   ]
  },
  {
   "cell_type": "code",
   "execution_count": 262,
   "id": "286493f3",
   "metadata": {},
   "outputs": [],
   "source": [
    "# Convert 'Cacao Percent' column in float to enable analyse \n",
    "\n",
    "df['Cocoa Percent'] = df['Cocoa Percent'].str.rstrip('%').astype(float) # % was removed as part of the conversion process "
   ]
  },
  {
   "cell_type": "code",
   "execution_count": 263,
   "id": "6902009d",
   "metadata": {
    "scrolled": true
   },
   "outputs": [
    {
     "data": {
      "text/html": [
       "<div>\n",
       "<style scoped>\n",
       "    .dataframe tbody tr th:only-of-type {\n",
       "        vertical-align: middle;\n",
       "    }\n",
       "\n",
       "    .dataframe tbody tr th {\n",
       "        vertical-align: top;\n",
       "    }\n",
       "\n",
       "    .dataframe thead th {\n",
       "        text-align: right;\n",
       "    }\n",
       "</style>\n",
       "<table border=\"1\" class=\"dataframe\">\n",
       "  <thead>\n",
       "    <tr style=\"text-align: right;\">\n",
       "      <th></th>\n",
       "      <th>Unnamed: 0</th>\n",
       "      <th>REF</th>\n",
       "      <th>Review Year</th>\n",
       "      <th>Cocoa Percent</th>\n",
       "      <th>Rating</th>\n",
       "    </tr>\n",
       "  </thead>\n",
       "  <tbody>\n",
       "    <tr>\n",
       "      <th>count</th>\n",
       "      <td>2588.000000</td>\n",
       "      <td>2588.000000</td>\n",
       "      <td>2588.000000</td>\n",
       "      <td>2588.000000</td>\n",
       "      <td>2588.000000</td>\n",
       "    </tr>\n",
       "    <tr>\n",
       "      <th>mean</th>\n",
       "      <td>1293.500000</td>\n",
       "      <td>1459.185471</td>\n",
       "      <td>2014.545209</td>\n",
       "      <td>71.613022</td>\n",
       "      <td>3.198319</td>\n",
       "    </tr>\n",
       "    <tr>\n",
       "      <th>std</th>\n",
       "      <td>747.235572</td>\n",
       "      <td>773.852201</td>\n",
       "      <td>4.082722</td>\n",
       "      <td>5.577118</td>\n",
       "      <td>0.444069</td>\n",
       "    </tr>\n",
       "    <tr>\n",
       "      <th>min</th>\n",
       "      <td>0.000000</td>\n",
       "      <td>5.000000</td>\n",
       "      <td>2006.000000</td>\n",
       "      <td>42.000000</td>\n",
       "      <td>1.000000</td>\n",
       "    </tr>\n",
       "    <tr>\n",
       "      <th>25%</th>\n",
       "      <td>646.750000</td>\n",
       "      <td>820.000000</td>\n",
       "      <td>2012.000000</td>\n",
       "      <td>70.000000</td>\n",
       "      <td>3.000000</td>\n",
       "    </tr>\n",
       "    <tr>\n",
       "      <th>50%</th>\n",
       "      <td>1293.500000</td>\n",
       "      <td>1470.000000</td>\n",
       "      <td>2015.000000</td>\n",
       "      <td>70.000000</td>\n",
       "      <td>3.250000</td>\n",
       "    </tr>\n",
       "    <tr>\n",
       "      <th>75%</th>\n",
       "      <td>1940.250000</td>\n",
       "      <td>2122.000000</td>\n",
       "      <td>2018.000000</td>\n",
       "      <td>74.000000</td>\n",
       "      <td>3.500000</td>\n",
       "    </tr>\n",
       "    <tr>\n",
       "      <th>max</th>\n",
       "      <td>2587.000000</td>\n",
       "      <td>2768.000000</td>\n",
       "      <td>2022.000000</td>\n",
       "      <td>100.000000</td>\n",
       "      <td>4.000000</td>\n",
       "    </tr>\n",
       "  </tbody>\n",
       "</table>\n",
       "</div>"
      ],
      "text/plain": [
       "        Unnamed: 0          REF  Review Year  Cocoa Percent       Rating\n",
       "count  2588.000000  2588.000000  2588.000000    2588.000000  2588.000000\n",
       "mean   1293.500000  1459.185471  2014.545209      71.613022     3.198319\n",
       "std     747.235572   773.852201     4.082722       5.577118     0.444069\n",
       "min       0.000000     5.000000  2006.000000      42.000000     1.000000\n",
       "25%     646.750000   820.000000  2012.000000      70.000000     3.000000\n",
       "50%    1293.500000  1470.000000  2015.000000      70.000000     3.250000\n",
       "75%    1940.250000  2122.000000  2018.000000      74.000000     3.500000\n",
       "max    2587.000000  2768.000000  2022.000000     100.000000     4.000000"
      ]
     },
     "execution_count": 263,
     "metadata": {},
     "output_type": "execute_result"
    }
   ],
   "source": [
    "df.describe() "
   ]
  },
  {
   "cell_type": "code",
   "execution_count": 264,
   "id": "58e1afe4",
   "metadata": {},
   "outputs": [],
   "source": [
    "# Save df cleaned \n",
    "\n",
    "df.to_csv(os.path.join(path,'choc_bar_rating_clean_newversion.csv'))"
   ]
  },
  {
   "cell_type": "code",
   "execution_count": 265,
   "id": "f8e5f136",
   "metadata": {},
   "outputs": [],
   "source": [
    "# Import new cleaned 'Chocolate bar rating 2022' dataset \n",
    "\n",
    "df = pd.read_csv(r'/Users/melissatoure/Documents/CF Data analytics program/Offical tasks reviewed /Data Immersion/Assigment off/Achievement 6 /6.4/choc_bar_rating_clean_newversion.csv', index_col = False)"
   ]
  },
  {
   "cell_type": "code",
   "execution_count": 291,
   "id": "1f5d1f76",
   "metadata": {},
   "outputs": [
    {
     "data": {
      "image/png": "[encoded data removed]",
      "text/plain": [
       "<Figure size 640x480 with 1 Axes>"
      ]
     },
     "metadata": {},
     "output_type": "display_data"
    }
   ],
   "source": [
    "### 4. Exploring data \n",
    "\n",
    "df_rating = sns.histplot(df['Rating'], bins = 25, kde = True)"
   ]
  },
  {
   "cell_type": "code",
   "execution_count": 292,
   "id": "eaa04f5d",
   "metadata": {},
   "outputs": [
    {
     "data": {
      "image/png": "[encoded data removed]",
      "text/plain": [
       "<Figure size 640x480 with 1 Axes>"
      ]
     },
     "metadata": {},
     "output_type": "display_data"
    }
   ],
   "source": [
    "df_percent = sns.histplot(df['Cocoa Percent'], bins = 25, kde = True)"
   ]
  },
  {
   "cell_type": "code",
   "execution_count": null,
   "id": "cc9f0d92",
   "metadata": {},
   "outputs": [],
   "source": [
    "### 5. Stating hypotheses : Cocoa percentage have an influence on rating. The darker the chocolate (over 70%) the better in terms of rating. "
   ]
  },
  {
   "cell_type": "code",
   "execution_count": 266,
   "id": "7e806b5e",
   "metadata": {},
   "outputs": [
    {
     "data": {
      "image/png": "[encoded data removed]",
      "text/plain": [
       "<Figure size 640x480 with 1 Axes>"
      ]
     },
     "metadata": {},
     "output_type": "display_data"
    }
   ],
   "source": [
    "### 6. Data prep for regression analysis\n",
    "\n",
    "#Create a scatterplot using matplotlib for another look at how the chosen variables plot against each other.\n",
    "\n",
    "df.plot(x = 'Rating', y='Cocoa Percent',style='o') \n",
    "plt.title('Rating vs Cocoa Percent'),\n",
    "plt.xlabel('Rating'),\n",
    "plt.ylabel('Cocoa Percent'), \n",
    "plt.show()"
   ]
  },
  {
   "cell_type": "code",
   "execution_count": 267,
   "id": "b6c4145c",
   "metadata": {},
   "outputs": [],
   "source": [
    "# Reshape the variables into NumPy arrays and put them into separate objects\n",
    "\n",
    "X = df['Rating'].values.reshape(-1,1)\n",
    "y = df['Cocoa Percent'].values.reshape(-1,1)"
   ]
  },
  {
   "cell_type": "code",
   "execution_count": 268,
   "id": "4e9f09ff",
   "metadata": {
    "scrolled": true
   },
   "outputs": [
    {
     "data": {
      "text/plain": [
       "array([[3.25],\n",
       "       [3.75],\n",
       "       [3.5 ],\n",
       "       ...,\n",
       "       [3.  ],\n",
       "       [3.25],\n",
       "       [3.5 ]])"
      ]
     },
     "execution_count": 268,
     "metadata": {},
     "output_type": "execute_result"
    }
   ],
   "source": [
    "X"
   ]
  },
  {
   "cell_type": "code",
   "execution_count": 269,
   "id": "a78166dc",
   "metadata": {},
   "outputs": [
    {
     "data": {
      "text/plain": [
       "array([[76.],\n",
       "       [76.],\n",
       "       [76.],\n",
       "       ...,\n",
       "       [75.],\n",
       "       [70.],\n",
       "       [72.]])"
      ]
     },
     "execution_count": 269,
     "metadata": {},
     "output_type": "execute_result"
    }
   ],
   "source": [
    "y"
   ]
  },
  {
   "cell_type": "code",
   "execution_count": 270,
   "id": "7bd3c3fc",
   "metadata": {},
   "outputs": [],
   "source": [
    "# Split data into a training set and a test set.\n",
    "\n",
    "X_train, X_test, y_train, y_test = train_test_split(X, y, test_size=0.3, random_state=0)"
   ]
  },
  {
   "cell_type": "code",
   "execution_count": 271,
   "id": "a394f730",
   "metadata": {},
   "outputs": [],
   "source": [
    "### 7. Regression analysis\n",
    "\n",
    "regression = LinearRegression() #Create a regression object"
   ]
  },
  {
   "cell_type": "code",
   "execution_count": 272,
   "id": "8783c528",
   "metadata": {},
   "outputs": [
    {
     "data": {
      "text/html": [
       "<style>#sk-container-id-3 {color: black;}#sk-container-id-3 pre{padding: 0;}#sk-container-id-3 div.sk-toggleable {background-color: white;}#sk-container-id-3 label.sk-toggleable__label {cursor: pointer;display: block;width: 100%;margin-bottom: 0;padding: 0.3em;box-sizing: border-box;text-align: center;}#sk-container-id-3 label.sk-toggleable__label-arrow:before {content: \"▸\";float: left;margin-right: 0.25em;color: #696969;}#sk-container-id-3 label.sk-toggleable__label-arrow:hover:before {color: black;}#sk-container-id-3 div.sk-estimator:hover label.sk-toggleable__label-arrow:before {color: black;}#sk-container-id-3 div.sk-toggleable__content {max-height: 0;max-width: 0;overflow: hidden;text-align: left;background-color: #f0f8ff;}#sk-container-id-3 div.sk-toggleable__content pre {margin: 0.2em;color: black;border-radius: 0.25em;background-color: #f0f8ff;}#sk-container-id-3 input.sk-toggleable__control:checked~div.sk-toggleable__content {max-height: 200px;max-width: 100%;overflow: auto;}#sk-container-id-3 input.sk-toggleable__control:checked~label.sk-toggleable__label-arrow:before {content: \"▾\";}#sk-container-id-3 div.sk-estimator input.sk-toggleable__control:checked~label.sk-toggleable__label {background-color: #d4ebff;}#sk-container-id-3 div.sk-label input.sk-toggleable__control:checked~label.sk-toggleable__label {background-color: #d4ebff;}#sk-container-id-3 input.sk-hidden--visually {border: 0;clip: rect(1px 1px 1px 1px);clip: rect(1px, 1px, 1px, 1px);height: 1px;margin: -1px;overflow: hidden;padding: 0;position: absolute;width: 1px;}#sk-container-id-3 div.sk-estimator {font-family: monospace;background-color: #f0f8ff;border: 1px dotted black;border-radius: 0.25em;box-sizing: border-box;margin-bottom: 0.5em;}#sk-container-id-3 div.sk-estimator:hover {background-color: #d4ebff;}#sk-container-id-3 div.sk-parallel-item::after {content: \"\";width: 100%;border-bottom: 1px solid gray;flex-grow: 1;}#sk-container-id-3 div.sk-label:hover label.sk-toggleable__label {background-color: #d4ebff;}#sk-container-id-3 div.sk-serial::before {content: \"\";position: absolute;border-left: 1px solid gray;box-sizing: border-box;top: 0;bottom: 0;left: 50%;z-index: 0;}#sk-container-id-3 div.sk-serial {display: flex;flex-direction: column;align-items: center;background-color: white;padding-right: 0.2em;padding-left: 0.2em;position: relative;}#sk-container-id-3 div.sk-item {position: relative;z-index: 1;}#sk-container-id-3 div.sk-parallel {display: flex;align-items: stretch;justify-content: center;background-color: white;position: relative;}#sk-container-id-3 div.sk-item::before, #sk-container-id-3 div.sk-parallel-item::before {content: \"\";position: absolute;border-left: 1px solid gray;box-sizing: border-box;top: 0;bottom: 0;left: 50%;z-index: -1;}#sk-container-id-3 div.sk-parallel-item {display: flex;flex-direction: column;z-index: 1;position: relative;background-color: white;}#sk-container-id-3 div.sk-parallel-item:first-child::after {align-self: flex-end;width: 50%;}#sk-container-id-3 div.sk-parallel-item:last-child::after {align-self: flex-start;width: 50%;}#sk-container-id-3 div.sk-parallel-item:only-child::after {width: 0;}#sk-container-id-3 div.sk-dashed-wrapped {border: 1px dashed gray;margin: 0 0.4em 0.5em 0.4em;box-sizing: border-box;padding-bottom: 0.4em;background-color: white;}#sk-container-id-3 div.sk-label label {font-family: monospace;font-weight: bold;display: inline-block;line-height: 1.2em;}#sk-container-id-3 div.sk-label-container {text-align: center;}#sk-container-id-3 div.sk-container {/* jupyter's `normalize.less` sets `[hidden] { display: none; }` but bootstrap.min.css set `[hidden] { display: none !important; }` so we also need the `!important` here to be able to override the default hidden behavior on the sphinx rendered scikit-learn.org. See: https://github.com/scikit-learn/scikit-learn/issues/21755 */display: inline-block !important;position: relative;}#sk-container-id-3 div.sk-text-repr-fallback {display: none;}</style><div id=\"sk-container-id-3\" class=\"sk-top-container\"><div class=\"sk-text-repr-fallback\"><pre>LinearRegression()</pre><b>In a Jupyter environment, please rerun this cell to show the HTML representation or trust the notebook. <br />On GitHub, the HTML representation is unable to render, please try loading this page with nbviewer.org.</b></div><div class=\"sk-container\" hidden><div class=\"sk-item\"><div class=\"sk-estimator sk-toggleable\"><input class=\"sk-toggleable__control sk-hidden--visually\" id=\"sk-estimator-id-3\" type=\"checkbox\" checked><label for=\"sk-estimator-id-3\" class=\"sk-toggleable__label sk-toggleable__label-arrow\">LinearRegression</label><div class=\"sk-toggleable__content\"><pre>LinearRegression()</pre></div></div></div></div></div>"
      ],
      "text/plain": [
       "LinearRegression()"
      ]
     },
     "execution_count": 272,
     "metadata": {},
     "output_type": "execute_result"
    }
   ],
   "source": [
    "# Fit the regression object onto the training set\n",
    "\n",
    "regression.fit(X_train, y_train)"
   ]
  },
  {
   "cell_type": "code",
   "execution_count": 273,
   "id": "fa5c8c51",
   "metadata": {},
   "outputs": [],
   "source": [
    "# Predict the values of y using X\n",
    "\n",
    "y_predicted = regression.predict(X_test)"
   ]
  },
  {
   "cell_type": "code",
   "execution_count": 286,
   "id": "42dd1fec",
   "metadata": {},
   "outputs": [
    {
     "data": {
      "image/png": "[encoded data removed]",
      "text/plain": [
       "<Figure size 640x480 with 1 Axes>"
      ]
     },
     "metadata": {},
     "output_type": "display_data"
    }
   ],
   "source": [
    "# Create a plot that shows the regression line from the model on the test set\n",
    "\n",
    "plot_test = plt\n",
    "plot_test.scatter(X_test, y_test, color='gray', s = 15)\n",
    "plot_test.plot(X_test, y_predicted, color='red', linewidth =3)\n",
    "plot_test.title('Rating vs Cocoa Percent (Test set)')\n",
    "plot_test.xlabel('Rating')\n",
    "plot_test.ylabel('Cocoa Percent')\n",
    "plot_test.show() # The red line does not cover all the data points, on the contrary, all data points are gradually scattered away from the line. Hence, it translate a strong negative relationsip between the variables.  \n",
    "\n",
    "\n"
   ]
  },
  {
   "cell_type": "code",
   "execution_count": 275,
   "id": "052ae10f",
   "metadata": {},
   "outputs": [],
   "source": [
    "# Create objects that contain the model summary statistics\n",
    "\n",
    "rmse = mean_squared_error(y_test, y_predicted) # Mean Squared Error\n",
    "r2 = r2_score(y_test, y_predicted) # R2 score"
   ]
  },
  {
   "cell_type": "code",
   "execution_count": 278,
   "id": "d52b1a45",
   "metadata": {},
   "outputs": [
    {
     "name": "stdout",
     "output_type": "stream",
     "text": [
      "Slope: [[-2.21128642]]\n",
      "Mean squared error:  30.7237338232595\n",
      "R2 score:  -0.009582456008777607\n"
     ]
    }
   ],
   "source": [
    "# Print the model summary statistics. This is where you evaluate the performance of the model.\n",
    "\n",
    "print('Slope:' ,regression.coef_)\n",
    "print('Mean squared error: ', rmse)\n",
    "print('R2 score: ', r2)\n"
   ]
  },
  {
   "cell_type": "code",
   "execution_count": 289,
   "id": "ff43bf0c",
   "metadata": {},
   "outputs": [
    {
     "data": {
      "text/html": [
       "<div>\n",
       "<style scoped>\n",
       "    .dataframe tbody tr th:only-of-type {\n",
       "        vertical-align: middle;\n",
       "    }\n",
       "\n",
       "    .dataframe tbody tr th {\n",
       "        vertical-align: top;\n",
       "    }\n",
       "\n",
       "    .dataframe thead th {\n",
       "        text-align: right;\n",
       "    }\n",
       "</style>\n",
       "<table border=\"1\" class=\"dataframe\">\n",
       "  <thead>\n",
       "    <tr style=\"text-align: right;\">\n",
       "      <th></th>\n",
       "      <th>Actual</th>\n",
       "      <th>Predicted</th>\n",
       "    </tr>\n",
       "  </thead>\n",
       "  <tbody>\n",
       "    <tr>\n",
       "      <th>0</th>\n",
       "      <td>70.0</td>\n",
       "      <td>71.590065</td>\n",
       "    </tr>\n",
       "    <tr>\n",
       "      <th>1</th>\n",
       "      <td>78.0</td>\n",
       "      <td>71.590065</td>\n",
       "    </tr>\n",
       "    <tr>\n",
       "      <th>2</th>\n",
       "      <td>70.0</td>\n",
       "      <td>73.248530</td>\n",
       "    </tr>\n",
       "    <tr>\n",
       "      <th>3</th>\n",
       "      <td>72.0</td>\n",
       "      <td>72.142886</td>\n",
       "    </tr>\n",
       "    <tr>\n",
       "      <th>4</th>\n",
       "      <td>70.0</td>\n",
       "      <td>70.484422</td>\n",
       "    </tr>\n",
       "    <tr>\n",
       "      <th>5</th>\n",
       "      <td>67.0</td>\n",
       "      <td>70.484422</td>\n",
       "    </tr>\n",
       "    <tr>\n",
       "      <th>6</th>\n",
       "      <td>70.0</td>\n",
       "      <td>70.484422</td>\n",
       "    </tr>\n",
       "    <tr>\n",
       "      <th>7</th>\n",
       "      <td>77.0</td>\n",
       "      <td>71.037243</td>\n",
       "    </tr>\n",
       "    <tr>\n",
       "      <th>8</th>\n",
       "      <td>70.0</td>\n",
       "      <td>71.037243</td>\n",
       "    </tr>\n",
       "    <tr>\n",
       "      <th>9</th>\n",
       "      <td>65.0</td>\n",
       "      <td>71.590065</td>\n",
       "    </tr>\n",
       "    <tr>\n",
       "      <th>10</th>\n",
       "      <td>68.0</td>\n",
       "      <td>71.590065</td>\n",
       "    </tr>\n",
       "    <tr>\n",
       "      <th>11</th>\n",
       "      <td>73.0</td>\n",
       "      <td>70.484422</td>\n",
       "    </tr>\n",
       "    <tr>\n",
       "      <th>12</th>\n",
       "      <td>70.0</td>\n",
       "      <td>71.037243</td>\n",
       "    </tr>\n",
       "    <tr>\n",
       "      <th>13</th>\n",
       "      <td>68.0</td>\n",
       "      <td>71.037243</td>\n",
       "    </tr>\n",
       "    <tr>\n",
       "      <th>14</th>\n",
       "      <td>70.0</td>\n",
       "      <td>71.037243</td>\n",
       "    </tr>\n",
       "  </tbody>\n",
       "</table>\n",
       "</div>"
      ],
      "text/plain": [
       "    Actual  Predicted\n",
       "0     70.0  71.590065\n",
       "1     78.0  71.590065\n",
       "2     70.0  73.248530\n",
       "3     72.0  72.142886\n",
       "4     70.0  70.484422\n",
       "5     67.0  70.484422\n",
       "6     70.0  70.484422\n",
       "7     77.0  71.037243\n",
       "8     70.0  71.037243\n",
       "9     65.0  71.590065\n",
       "10    68.0  71.590065\n",
       "11    73.0  70.484422\n",
       "12    70.0  71.037243\n",
       "13    68.0  71.037243\n",
       "14    70.0  71.037243"
      ]
     },
     "execution_count": 289,
     "metadata": {},
     "output_type": "execute_result"
    }
   ],
   "source": [
    "### 8. Create a dataframe comparing the actual and predicted values of y.\n",
    "\n",
    "y_predicted_train = regression.predict(X_train)\n",
    "data = pd.DataFrame({'Actual' : y_test.flatten(),'Predicted' : y_predicted.flatten() })\n",
    "data.head(15)"
   ]
  },
  {
   "cell_type": "code",
   "execution_count": 288,
   "id": "b488926d",
   "metadata": {},
   "outputs": [
    {
     "data": {
      "image/png": "[encoded data removed]",
      "text/plain": [
       "<Figure size 640x480 with 1 Axes>"
      ]
     },
     "metadata": {},
     "output_type": "display_data"
    }
   ],
   "source": [
    "# Visualizing the training set results\n",
    "\n",
    "plot_test = plt\n",
    "plot_test.scatter(X_train, y_train, color='green', s = 15)\n",
    "plot_test.plot(X_train, y_predicted_train, color='red', linewidth =3)\n",
    "plot_test.title('Rating vs Cocoa Percent (Train set)')\n",
    "plot_test.xlabel('Rating')\n",
    "plot_test.ylabel('Cocoa Percent')\n",
    "plot_test.show()"
   ]
  },
  {
   "cell_type": "code",
   "execution_count": null,
   "id": "f2820381",
   "metadata": {},
   "outputs": [],
   "source": [
    "### 9. Insights : Based of the results, we can see that the slope is negative with a value of approx. -2.211, which suggests an inverse relationship between the predictor and the target. Then, we can see that the R2 score is also negative with a value of -0.009, which shows that the model seems to be a very poor fit for the data. Regarding, the mean squared error, the value is 30.7237338232595 which is quite large. Indeed, a lower value would have been better. Finally, we can see that there’s quite a difference between the actual and predicted 'y' values which shows that then model is not very efficient to explain the relationship of the variables. To conclude, we can see that the model did not perform quite well since it did not provide any meaningful predictions. \n",
    "\n",
    "\n"
   ]
  }
 ],
 "metadata": {
  "kernelspec": {
   "display_name": "Python 3 (ipykernel)",
   "language": "python",
   "name": "python3"
  },
  "language_info": {
   "codemirror_mode": {
    "name": "ipython",
    "version": 3
   },
   "file_extension": ".py",
   "mimetype": "text/x-python",
   "name": "python",
   "nbconvert_exporter": "python",
   "pygments_lexer": "ipython3",
   "version": "3.11.4"
  }
 },
 "nbformat": 4,
 "nbformat_minor": 5
}
